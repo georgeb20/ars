{
 "cells": [
  {
   "cell_type": "code",
   "execution_count": 1,
   "id": "609d4d62",
   "metadata": {},
   "outputs": [
    {
     "name": "stderr",
     "output_type": "stream",
     "text": [
      "c:\\Users\\georg\\anaconda3\\envs\\band\\lib\\site-packages\\tqdm\\auto.py:22: TqdmWarning: IProgress not found. Please update jupyter and ipywidgets. See https://ipywidgets.readthedocs.io/en/stable/user_install.html\n",
      "  from .autonotebook import tqdm as notebook_tqdm\n"
     ]
    }
   ],
   "source": [
    "import numpy as np\n",
    "import os\n",
    "\n",
    "from tflite_model_maker import model_spec\n",
    "from tflite_model_maker import object_detector\n",
    "\n",
    "import tensorflow as tf\n",
    "assert tf.__version__.startswith('2')\n",
    "\n",
    "\n"
   ]
  },
  {
   "cell_type": "code",
   "execution_count": 2,
   "id": "bc2c3b40",
   "metadata": {},
   "outputs": [
    {
     "name": "stdout",
     "output_type": "stream",
     "text": [
      "INFO:tensorflow:Cache will be stored in C:\\Users\\georg\\AppData\\Local\\Temp\\tmpj_n4vd77 with prefix filename fd2c112752054ea1fcebcf49d7779205. Cache_prefix is C:\\Users\\georg\\AppData\\Local\\Temp\\tmpj_n4vd77\\fd2c112752054ea1fcebcf49d7779205\n",
      "INFO:tensorflow:On image 0\n",
      "INFO:tensorflow:On image 100\n",
      "INFO:tensorflow:On image 200\n",
      "INFO:tensorflow:On image 300\n",
      "INFO:tensorflow:On image 400\n",
      "INFO:tensorflow:On image 500\n",
      "INFO:tensorflow:On image 600\n",
      "INFO:tensorflow:Cache will be stored in C:\\Users\\georg\\AppData\\Local\\Temp\\tmpyz0uzpvx with prefix filename fd2c112752054ea1fcebcf49d7779205. Cache_prefix is C:\\Users\\georg\\AppData\\Local\\Temp\\tmpyz0uzpvx\\fd2c112752054ea1fcebcf49d7779205\n",
      "INFO:tensorflow:On image 0\n",
      "INFO:tensorflow:Cache will be stored in C:\\Users\\georg\\AppData\\Local\\Temp\\tmp6_tekvnh with prefix filename fd2c112752054ea1fcebcf49d7779205. Cache_prefix is C:\\Users\\georg\\AppData\\Local\\Temp\\tmp6_tekvnh\\fd2c112752054ea1fcebcf49d7779205\n"
     ]
    }
   ],
   "source": [
    "#!unzip dataset_5.zip\n",
    "\n",
    "#label_map = {1: 'black', 2:'brown',3:'red',4:'orange',5:'yellow',6:'green',7:'blue',8:'violet',9:'gray',10:'white',11:'gold',12:'silver'}\n",
    "label_map = {1:'band'}\n",
    "\n",
    "\n",
    "\n",
    "\n",
    "\n",
    "\n",
    "\n",
    "train_images_dir = 'dataset_5/train/images'\n",
    "train_annotations_dir = 'dataset_5/train/annotations'\n",
    "train_data = object_detector.DataLoader.from_pascal_voc(train_images_dir, train_annotations_dir, label_map=label_map)\n",
    "\n",
    "\n",
    "val_images_dir = 'dataset_5/validation/images'\n",
    "val_annotations_dir = 'dataset_5/validation/annotations'\n",
    "validation_data = object_detector.DataLoader.from_pascal_voc(val_images_dir, val_annotations_dir, label_map=label_map)\n",
    "\n",
    "test_images_dir = 'dataset_5/test/images'\n",
    "test_annotations_dir = 'dataset_5/test/annotations'\n",
    "test_data = object_detector.DataLoader.from_pascal_voc(test_images_dir, test_annotations_dir, label_map=label_map)"
   ]
  },
  {
   "cell_type": "code",
   "execution_count": 3,
   "id": "398288b6",
   "metadata": {},
   "outputs": [],
   "source": [
    "spec = object_detector.EfficientDetLite1Spec()"
   ]
  },
  {
   "cell_type": "code",
   "execution_count": 4,
   "id": "92431b3b",
   "metadata": {
    "scrolled": true
   },
   "outputs": [
    {
     "name": "stdout",
     "output_type": "stream",
     "text": [
      "INFO:tensorflow:Retraining the models...\n"
     ]
    },
    {
     "ename": "OSError",
     "evalue": "SavedModel file does not exist at: C:\\Users\\georg\\AppData\\Local\\Temp\\tfhub_modules\\924b1ab4d4a5b2c6d6709a01993a9c4bf23f7dd7\\{saved_model.pbtxt|saved_model.pb}",
     "output_type": "error",
     "traceback": [
      "\u001b[1;31m---------------------------------------------------------------------------\u001b[0m",
      "\u001b[1;31mOSError\u001b[0m                                   Traceback (most recent call last)",
      "\u001b[1;32mc:\\Users\\georg\\OneDrive\\Desktop\\band\\band\\ars.ipynb Cell 4\u001b[0m in \u001b[0;36m<cell line: 1>\u001b[1;34m()\u001b[0m\n\u001b[1;32m----> <a href='vscode-notebook-cell:/c%3A/Users/georg/OneDrive/Desktop/band/band/ars.ipynb#W3sZmlsZQ%3D%3D?line=0'>1</a>\u001b[0m model \u001b[39m=\u001b[39m object_detector\u001b[39m.\u001b[39;49mcreate(train_data\u001b[39m=\u001b[39;49mtrain_data, model_spec\u001b[39m=\u001b[39;49mspec, validation_data\u001b[39m=\u001b[39;49mvalidation_data, epochs\u001b[39m=\u001b[39;49m\u001b[39m30\u001b[39;49m, batch_size\u001b[39m=\u001b[39;49m\u001b[39m8\u001b[39;49m, train_whole_model\u001b[39m=\u001b[39;49m\u001b[39mTrue\u001b[39;49;00m)\n",
      "File \u001b[1;32mc:\\Users\\georg\\anaconda3\\envs\\band\\lib\\site-packages\\tensorflow_examples\\lite\\model_maker\\core\\task\\object_detector.py:260\u001b[0m, in \u001b[0;36mObjectDetector.create\u001b[1;34m(cls, train_data, model_spec, validation_data, epochs, batch_size, train_whole_model, do_train)\u001b[0m\n\u001b[0;32m    258\u001b[0m \u001b[39mif\u001b[39;00m do_train:\n\u001b[0;32m    259\u001b[0m   tf\u001b[39m.\u001b[39mcompat\u001b[39m.\u001b[39mv1\u001b[39m.\u001b[39mlogging\u001b[39m.\u001b[39minfo(\u001b[39m'\u001b[39m\u001b[39mRetraining the models...\u001b[39m\u001b[39m'\u001b[39m)\n\u001b[1;32m--> 260\u001b[0m   object_detector\u001b[39m.\u001b[39;49mtrain(train_data, validation_data, epochs, batch_size)\n\u001b[0;32m    261\u001b[0m \u001b[39melse\u001b[39;00m:\n\u001b[0;32m    262\u001b[0m   object_detector\u001b[39m.\u001b[39mcreate_model()\n",
      "File \u001b[1;32mc:\\Users\\georg\\anaconda3\\envs\\band\\lib\\site-packages\\tensorflow_examples\\lite\\model_maker\\core\\task\\object_detector.py:118\u001b[0m, in \u001b[0;36mObjectDetector.train\u001b[1;34m(self, train_data, validation_data, epochs, batch_size)\u001b[0m\n\u001b[0;32m    115\u001b[0m   validation_data \u001b[39m=\u001b[39m \u001b[39mNone\u001b[39;00m\n\u001b[0;32m    117\u001b[0m \u001b[39mwith\u001b[39;00m \u001b[39mself\u001b[39m\u001b[39m.\u001b[39mmodel_spec\u001b[39m.\u001b[39mds_strategy\u001b[39m.\u001b[39mscope():\n\u001b[1;32m--> 118\u001b[0m   \u001b[39mself\u001b[39;49m\u001b[39m.\u001b[39;49mcreate_model()\n\u001b[0;32m    119\u001b[0m   train_ds, steps_per_epoch, _ \u001b[39m=\u001b[39m \u001b[39mself\u001b[39m\u001b[39m.\u001b[39m_get_dataset_and_steps(\n\u001b[0;32m    120\u001b[0m       train_data, batch_size, is_training\u001b[39m=\u001b[39m\u001b[39mTrue\u001b[39;00m)\n\u001b[0;32m    121\u001b[0m   validation_ds, validation_steps, val_json_file \u001b[39m=\u001b[39m \u001b[39mself\u001b[39m\u001b[39m.\u001b[39m_get_dataset_and_steps(\n\u001b[0;32m    122\u001b[0m       validation_data, batch_size, is_training\u001b[39m=\u001b[39m\u001b[39mFalse\u001b[39;00m)\n",
      "File \u001b[1;32mc:\\Users\\georg\\anaconda3\\envs\\band\\lib\\site-packages\\tensorflow_examples\\lite\\model_maker\\core\\task\\object_detector.py:74\u001b[0m, in \u001b[0;36mObjectDetector.create_model\u001b[1;34m(self)\u001b[0m\n\u001b[0;32m     73\u001b[0m \u001b[39mdef\u001b[39;00m \u001b[39mcreate_model\u001b[39m(\u001b[39mself\u001b[39m) \u001b[39m-\u001b[39m\u001b[39m>\u001b[39m tf\u001b[39m.\u001b[39mkeras\u001b[39m.\u001b[39mModel:\n\u001b[1;32m---> 74\u001b[0m   \u001b[39mself\u001b[39m\u001b[39m.\u001b[39mmodel \u001b[39m=\u001b[39m \u001b[39mself\u001b[39;49m\u001b[39m.\u001b[39;49mmodel_spec\u001b[39m.\u001b[39;49mcreate_model()\n\u001b[0;32m     75\u001b[0m   \u001b[39mreturn\u001b[39;00m \u001b[39mself\u001b[39m\u001b[39m.\u001b[39mmodel\n",
      "File \u001b[1;32mc:\\Users\\georg\\anaconda3\\envs\\band\\lib\\site-packages\\tensorflow_examples\\lite\\model_maker\\core\\task\\model_spec\\object_detector_spec.py:237\u001b[0m, in \u001b[0;36mEfficientDetModelSpec.create_model\u001b[1;34m(self)\u001b[0m\n\u001b[0;32m    235\u001b[0m \u001b[39mdef\u001b[39;00m \u001b[39mcreate_model\u001b[39m(\u001b[39mself\u001b[39m) \u001b[39m-\u001b[39m\u001b[39m>\u001b[39m tf\u001b[39m.\u001b[39mkeras\u001b[39m.\u001b[39mModel:\n\u001b[0;32m    236\u001b[0m   \u001b[39m\"\"\"Creates the EfficientDet model.\"\"\"\u001b[39;00m\n\u001b[1;32m--> 237\u001b[0m   \u001b[39mreturn\u001b[39;00m train_lib\u001b[39m.\u001b[39;49mEfficientDetNetTrainHub(\n\u001b[0;32m    238\u001b[0m       config\u001b[39m=\u001b[39;49m\u001b[39mself\u001b[39;49m\u001b[39m.\u001b[39;49mconfig, hub_module_url\u001b[39m=\u001b[39;49m\u001b[39mself\u001b[39;49m\u001b[39m.\u001b[39;49muri)\n",
      "File \u001b[1;32mc:\\Users\\georg\\anaconda3\\envs\\band\\lib\\site-packages\\tensorflow_examples\\lite\\model_maker\\third_party\\efficientdet\\keras\\train_lib.py:862\u001b[0m, in \u001b[0;36mEfficientDetNetTrainHub.__init__\u001b[1;34m(self, config, hub_module_url, name)\u001b[0m\n\u001b[0;32m    860\u001b[0m \u001b[39mself\u001b[39m\u001b[39m.\u001b[39mconfig \u001b[39m=\u001b[39m config\n\u001b[0;32m    861\u001b[0m \u001b[39mself\u001b[39m\u001b[39m.\u001b[39mhub_module_url \u001b[39m=\u001b[39m hub_module_url\n\u001b[1;32m--> 862\u001b[0m \u001b[39mself\u001b[39m\u001b[39m.\u001b[39mbase_model \u001b[39m=\u001b[39m hub\u001b[39m.\u001b[39;49mKerasLayer(hub_module_url, trainable\u001b[39m=\u001b[39;49m\u001b[39mTrue\u001b[39;49;00m)\n\u001b[0;32m    864\u001b[0m \u001b[39m# class/box output prediction network.\u001b[39;00m\n\u001b[0;32m    865\u001b[0m num_anchors \u001b[39m=\u001b[39m \u001b[39mlen\u001b[39m(config\u001b[39m.\u001b[39maspect_ratios) \u001b[39m*\u001b[39m config\u001b[39m.\u001b[39mnum_scales\n",
      "File \u001b[1;32mc:\\Users\\georg\\anaconda3\\envs\\band\\lib\\site-packages\\tensorflow_hub\\keras_layer.py:153\u001b[0m, in \u001b[0;36mKerasLayer.__init__\u001b[1;34m(self, handle, trainable, arguments, _sentinel, tags, signature, signature_outputs_as_dict, output_key, output_shape, load_options, **kwargs)\u001b[0m\n\u001b[0;32m    149\u001b[0m   \u001b[39mself\u001b[39m\u001b[39m.\u001b[39m_output_shape \u001b[39m=\u001b[39m data_structures\u001b[39m.\u001b[39mNoDependency(\n\u001b[0;32m    150\u001b[0m       _convert_nest_to_shapes(output_shape))\n\u001b[0;32m    152\u001b[0m \u001b[39mself\u001b[39m\u001b[39m.\u001b[39m_load_options \u001b[39m=\u001b[39m load_options\n\u001b[1;32m--> 153\u001b[0m \u001b[39mself\u001b[39m\u001b[39m.\u001b[39m_func \u001b[39m=\u001b[39m load_module(handle, tags, \u001b[39mself\u001b[39;49m\u001b[39m.\u001b[39;49m_load_options)\n\u001b[0;32m    154\u001b[0m \u001b[39mself\u001b[39m\u001b[39m.\u001b[39m_has_training_argument \u001b[39m=\u001b[39m func_has_training_argument(\u001b[39mself\u001b[39m\u001b[39m.\u001b[39m_func)\n\u001b[0;32m    155\u001b[0m \u001b[39mself\u001b[39m\u001b[39m.\u001b[39m_is_hub_module_v1 \u001b[39m=\u001b[39m \u001b[39mgetattr\u001b[39m(\u001b[39mself\u001b[39m\u001b[39m.\u001b[39m_func, \u001b[39m\"\u001b[39m\u001b[39m_is_hub_module_v1\u001b[39m\u001b[39m\"\u001b[39m, \u001b[39mFalse\u001b[39;00m)\n",
      "File \u001b[1;32mc:\\Users\\georg\\anaconda3\\envs\\band\\lib\\site-packages\\tensorflow_hub\\keras_layer.py:449\u001b[0m, in \u001b[0;36mload_module\u001b[1;34m(handle, tags, load_options)\u001b[0m\n\u001b[0;32m    447\u001b[0m   \u001b[39mexcept\u001b[39;00m \u001b[39mImportError\u001b[39;00m:  \u001b[39m# Expected before TF2.4.\u001b[39;00m\n\u001b[0;32m    448\u001b[0m     set_load_options \u001b[39m=\u001b[39m load_options\n\u001b[1;32m--> 449\u001b[0m \u001b[39mreturn\u001b[39;00m module_v2\u001b[39m.\u001b[39;49mload(handle, tags\u001b[39m=\u001b[39;49mtags, options\u001b[39m=\u001b[39;49mset_load_options)\n",
      "File \u001b[1;32mc:\\Users\\georg\\anaconda3\\envs\\band\\lib\\site-packages\\tensorflow_hub\\module_v2.py:106\u001b[0m, in \u001b[0;36mload\u001b[1;34m(handle, tags, options)\u001b[0m\n\u001b[0;32m    103\u001b[0m   obj \u001b[39m=\u001b[39m tf\u001b[39m.\u001b[39mcompat\u001b[39m.\u001b[39mv1\u001b[39m.\u001b[39msaved_model\u001b[39m.\u001b[39mload_v2(\n\u001b[0;32m    104\u001b[0m       module_path, tags\u001b[39m=\u001b[39mtags, options\u001b[39m=\u001b[39moptions)\n\u001b[0;32m    105\u001b[0m \u001b[39melse\u001b[39;00m:\n\u001b[1;32m--> 106\u001b[0m   obj \u001b[39m=\u001b[39m tf\u001b[39m.\u001b[39;49mcompat\u001b[39m.\u001b[39;49mv1\u001b[39m.\u001b[39;49msaved_model\u001b[39m.\u001b[39;49mload_v2(module_path, tags\u001b[39m=\u001b[39;49mtags)\n\u001b[0;32m    107\u001b[0m obj\u001b[39m.\u001b[39m_is_hub_module_v1 \u001b[39m=\u001b[39m is_hub_module_v1  \u001b[39m# pylint: disable=protected-access\u001b[39;00m\n\u001b[0;32m    108\u001b[0m \u001b[39mreturn\u001b[39;00m obj\n",
      "File \u001b[1;32mc:\\Users\\georg\\anaconda3\\envs\\band\\lib\\site-packages\\tensorflow\\python\\saved_model\\load.py:936\u001b[0m, in \u001b[0;36mload\u001b[1;34m(export_dir, tags, options)\u001b[0m\n\u001b[0;32m    845\u001b[0m \u001b[39m@tf_export\u001b[39m(\u001b[39m\"\u001b[39m\u001b[39msaved_model.load\u001b[39m\u001b[39m\"\u001b[39m, v1\u001b[39m=\u001b[39m[\u001b[39m\"\u001b[39m\u001b[39msaved_model.load_v2\u001b[39m\u001b[39m\"\u001b[39m])\n\u001b[0;32m    846\u001b[0m \u001b[39mdef\u001b[39;00m \u001b[39mload\u001b[39m(export_dir, tags\u001b[39m=\u001b[39m\u001b[39mNone\u001b[39;00m, options\u001b[39m=\u001b[39m\u001b[39mNone\u001b[39;00m):\n\u001b[0;32m    847\u001b[0m   \u001b[39m\"\"\"Load a SavedModel from `export_dir`.\u001b[39;00m\n\u001b[0;32m    848\u001b[0m \n\u001b[0;32m    849\u001b[0m \u001b[39m  Signatures associated with the SavedModel are available as functions:\u001b[39;00m\n\u001b[1;32m   (...)\u001b[0m\n\u001b[0;32m    934\u001b[0m \u001b[39m    ValueError: If `tags` don't match a MetaGraph in the SavedModel.\u001b[39;00m\n\u001b[0;32m    935\u001b[0m \u001b[39m  \"\"\"\u001b[39;00m\n\u001b[1;32m--> 936\u001b[0m   result \u001b[39m=\u001b[39m load_internal(export_dir, tags, options)[\u001b[39m\"\u001b[39m\u001b[39mroot\u001b[39m\u001b[39m\"\u001b[39m]\n\u001b[0;32m    937\u001b[0m   \u001b[39mreturn\u001b[39;00m result\n",
      "File \u001b[1;32mc:\\Users\\georg\\anaconda3\\envs\\band\\lib\\site-packages\\tensorflow\\python\\saved_model\\load.py:949\u001b[0m, in \u001b[0;36mload_internal\u001b[1;34m(export_dir, tags, options, loader_cls, filters)\u001b[0m\n\u001b[0;32m    944\u001b[0m \u001b[39mif\u001b[39;00m tags \u001b[39mis\u001b[39;00m \u001b[39mnot\u001b[39;00m \u001b[39mNone\u001b[39;00m \u001b[39mand\u001b[39;00m \u001b[39mnot\u001b[39;00m \u001b[39misinstance\u001b[39m(tags, \u001b[39mset\u001b[39m):\n\u001b[0;32m    945\u001b[0m   \u001b[39m# Supports e.g. tags=SERVING and tags=[SERVING]. Sets aren't considered\u001b[39;00m\n\u001b[0;32m    946\u001b[0m   \u001b[39m# sequences for nest.flatten, so we put those through as-is.\u001b[39;00m\n\u001b[0;32m    947\u001b[0m   tags \u001b[39m=\u001b[39m nest\u001b[39m.\u001b[39mflatten(tags)\n\u001b[0;32m    948\u001b[0m saved_model_proto, debug_info \u001b[39m=\u001b[39m (\n\u001b[1;32m--> 949\u001b[0m     loader_impl\u001b[39m.\u001b[39;49mparse_saved_model_with_debug_info(export_dir))\n\u001b[0;32m    951\u001b[0m \u001b[39mif\u001b[39;00m (\u001b[39mlen\u001b[39m(saved_model_proto\u001b[39m.\u001b[39mmeta_graphs) \u001b[39m==\u001b[39m \u001b[39m1\u001b[39m \u001b[39mand\u001b[39;00m\n\u001b[0;32m    952\u001b[0m     saved_model_proto\u001b[39m.\u001b[39mmeta_graphs[\u001b[39m0\u001b[39m]\u001b[39m.\u001b[39mHasField(\u001b[39m\"\u001b[39m\u001b[39mobject_graph_def\u001b[39m\u001b[39m\"\u001b[39m)):\n\u001b[0;32m    953\u001b[0m   metrics\u001b[39m.\u001b[39mIncrementReadApi(_LOAD_V2_LABEL)\n",
      "File \u001b[1;32mc:\\Users\\georg\\anaconda3\\envs\\band\\lib\\site-packages\\tensorflow\\python\\saved_model\\loader_impl.py:57\u001b[0m, in \u001b[0;36mparse_saved_model_with_debug_info\u001b[1;34m(export_dir)\u001b[0m\n\u001b[0;32m     44\u001b[0m \u001b[39mdef\u001b[39;00m \u001b[39mparse_saved_model_with_debug_info\u001b[39m(export_dir):\n\u001b[0;32m     45\u001b[0m   \u001b[39m\"\"\"Reads the savedmodel as well as the graph debug info.\u001b[39;00m\n\u001b[0;32m     46\u001b[0m \n\u001b[0;32m     47\u001b[0m \u001b[39m  Args:\u001b[39;00m\n\u001b[1;32m   (...)\u001b[0m\n\u001b[0;32m     55\u001b[0m \u001b[39m    parsed. Missing graph debug info file is fine.\u001b[39;00m\n\u001b[0;32m     56\u001b[0m \u001b[39m  \"\"\"\u001b[39;00m\n\u001b[1;32m---> 57\u001b[0m   saved_model \u001b[39m=\u001b[39m parse_saved_model(export_dir)\n\u001b[0;32m     59\u001b[0m   debug_info_path \u001b[39m=\u001b[39m file_io\u001b[39m.\u001b[39mjoin(\n\u001b[0;32m     60\u001b[0m       saved_model_utils\u001b[39m.\u001b[39mget_debug_dir(export_dir),\n\u001b[0;32m     61\u001b[0m       constants\u001b[39m.\u001b[39mDEBUG_INFO_FILENAME_PB)\n\u001b[0;32m     62\u001b[0m   debug_info \u001b[39m=\u001b[39m graph_debug_info_pb2\u001b[39m.\u001b[39mGraphDebugInfo()\n",
      "File \u001b[1;32mc:\\Users\\georg\\anaconda3\\envs\\band\\lib\\site-packages\\tensorflow\\python\\saved_model\\loader_impl.py:115\u001b[0m, in \u001b[0;36mparse_saved_model\u001b[1;34m(export_dir)\u001b[0m\n\u001b[0;32m    113\u001b[0m     \u001b[39mraise\u001b[39;00m \u001b[39mIOError\u001b[39;00m(\u001b[39mf\u001b[39m\u001b[39m\"\u001b[39m\u001b[39mCannot parse file \u001b[39m\u001b[39m{\u001b[39;00mpath_to_pbtxt\u001b[39m}\u001b[39;00m\u001b[39m: \u001b[39m\u001b[39m{\u001b[39;00m\u001b[39mstr\u001b[39m(e)\u001b[39m}\u001b[39;00m\u001b[39m.\u001b[39m\u001b[39m\"\u001b[39m)\n\u001b[0;32m    114\u001b[0m \u001b[39melse\u001b[39;00m:\n\u001b[1;32m--> 115\u001b[0m   \u001b[39mraise\u001b[39;00m \u001b[39mIOError\u001b[39;00m(\n\u001b[0;32m    116\u001b[0m       \u001b[39mf\u001b[39m\u001b[39m\"\u001b[39m\u001b[39mSavedModel file does not exist at: \u001b[39m\u001b[39m{\u001b[39;00mexport_dir\u001b[39m}\u001b[39;00m\u001b[39m{\u001b[39;00mos\u001b[39m.\u001b[39mpath\u001b[39m.\u001b[39msep\u001b[39m}\u001b[39;00m\u001b[39m\"\u001b[39m\n\u001b[0;32m    117\u001b[0m       \u001b[39mf\u001b[39m\u001b[39m\"\u001b[39m\u001b[39m{{\u001b[39;00m\u001b[39m{\u001b[39;00mconstants\u001b[39m.\u001b[39mSAVED_MODEL_FILENAME_PBTXT\u001b[39m}\u001b[39;00m\u001b[39m|\u001b[39m\u001b[39m\"\u001b[39m\n\u001b[0;32m    118\u001b[0m       \u001b[39mf\u001b[39m\u001b[39m\"\u001b[39m\u001b[39m{\u001b[39;00mconstants\u001b[39m.\u001b[39mSAVED_MODEL_FILENAME_PB\u001b[39m}\u001b[39;00m\u001b[39m}}\u001b[39;00m\u001b[39m\"\u001b[39m)\n",
      "\u001b[1;31mOSError\u001b[0m: SavedModel file does not exist at: C:\\Users\\georg\\AppData\\Local\\Temp\\tfhub_modules\\924b1ab4d4a5b2c6d6709a01993a9c4bf23f7dd7\\{saved_model.pbtxt|saved_model.pb}"
     ]
    }
   ],
   "source": [
    "model = object_detector.create(train_data=train_data, model_spec=spec, validation_data=validation_data, epochs=30, batch_size=8, train_whole_model=True)"
   ]
  },
  {
   "cell_type": "code",
   "execution_count": null,
   "id": "50e0d8dc",
   "metadata": {},
   "outputs": [],
   "source": [
    "model.evaluate(validation_data)"
   ]
  },
  {
   "cell_type": "code",
   "execution_count": null,
   "id": "87e6d1fb",
   "metadata": {},
   "outputs": [],
   "source": [
    "TFLITE_FILENAME = 'laptop1.tflite'\n",
    "LABELS_FILENAME = 'band-labels.txt'"
   ]
  },
  {
   "cell_type": "code",
   "execution_count": null,
   "id": "6d649313",
   "metadata": {},
   "outputs": [],
   "source": [
    "\n",
    "from tflite_model_maker.config import ExportFormat\n",
    "model.export(export_dir='.', tflite_filename=TFLITE_FILENAME, label_filename=LABELS_FILENAME,\n",
    "             export_format=[ExportFormat.TFLITE, ExportFormat.LABEL])"
   ]
  },
  {
   "cell_type": "code",
   "execution_count": null,
   "id": "fd7d649b",
   "metadata": {},
   "outputs": [],
   "source": [
    "model.evaluate_tflite(TFLITE_FILENAME, test_data)"
   ]
  },
  {
   "cell_type": "code",
   "execution_count": null,
   "id": "e1a5713a",
   "metadata": {},
   "outputs": [],
   "source": [
    "#PART 2, USING LITE MODEL\n",
    "! python3 -m pip install --extra-index-url https://google-coral.github.io/py-repo/ pycoral"
   ]
  },
  {
   "cell_type": "code",
   "execution_count": null,
   "id": "cb577db7",
   "metadata": {},
   "outputs": [],
   "source": [
    "from PIL import Image\n",
    "from PIL import ImageDraw\n",
    "from PIL import ImageFont\n",
    "\n",
    "import tflite_runtime.interpreter as tflite \n",
    "from pycoral.adapters import common\n",
    "from pycoral.adapters import detect\n",
    "from pycoral.utils.dataset import read_label_file\n",
    "\n",
    "def draw_objects(draw, objs, scale_factor, labels):\n",
    "  \"\"\"Draws the bounding box and label for each object.\"\"\"\n",
    "  COLORS = np.random.randint(0, 255, size=(len(labels), 3), dtype=np.uint8)\n",
    "  for obj in objs:\n",
    "    bbox = obj.bbox\n",
    "    color = tuple(int(c) for c in COLORS[obj.id])\n",
    "    draw.rectangle([(bbox.xmin * scale_factor, bbox.ymin * scale_factor),\n",
    "                    (bbox.xmax * scale_factor, bbox.ymax * scale_factor)],\n",
    "                   outline=color, width=3)\n",
    "    font = ImageFont.truetype(\"LiberationSans-Regular.ttf\", size=15)\n",
    "    draw.text((bbox.xmin * scale_factor + 4, bbox.ymin * scale_factor + 4),\n",
    "              '%s\\n%.2f' % (labels.get(obj.id, obj.id), obj.score),\n",
    "              fill=color, font=font)\n",
    "\n",
    "# Load the TF Lite model\n",
    "labels = read_label_file(LABELS_FILENAME)\n",
    "interpreter = tflite.Interpreter(TFLITE_FILENAME)\n",
    "interpreter.allocate_tensors()\n",
    "\n",
    "# Resize the image for input\n",
    "image = Image.open('dataset/Resistor_+0.jpg')\n",
    "_, scale = common.set_resized_input(\n",
    "    interpreter, image.size, lambda size: image.resize(size, Image.ANTIALIAS))\n",
    "\n",
    "# Run inference\n",
    "interpreter.invoke()\n",
    "objs = detect.get_objects(interpreter, score_threshold=0.4, image_scale=scale)\n",
    "\n",
    "# Resize again to a reasonable size for display\n",
    "display_width = 500\n",
    "scale_factor = display_width / image.width\n",
    "height_ratio = image.height / image.width\n",
    "image = image.resize((display_width, int(display_width * height_ratio)))\n",
    "draw_objects(ImageDraw.Draw(image), objs, scale_factor, labels)\n",
    "image"
   ]
  },
  {
   "cell_type": "code",
   "execution_count": null,
   "id": "b7af5a40",
   "metadata": {},
   "outputs": [],
   "source": []
  }
 ],
 "metadata": {
  "kernelspec": {
   "display_name": "Python 3.9.13 ('band')",
   "language": "python",
   "name": "python3"
  },
  "language_info": {
   "codemirror_mode": {
    "name": "ipython",
    "version": 3
   },
   "file_extension": ".py",
   "mimetype": "text/x-python",
   "name": "python",
   "nbconvert_exporter": "python",
   "pygments_lexer": "ipython3",
   "version": "3.9.13"
  },
  "vscode": {
   "interpreter": {
    "hash": "693cdbb358a2bdc40ce36207696ed63be159f188f11a99bdc0604f8b89b80557"
   }
  }
 },
 "nbformat": 4,
 "nbformat_minor": 5
}
