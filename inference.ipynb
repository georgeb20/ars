{
 "cells": [
  {
   "cell_type": "code",
   "execution_count": null,
   "metadata": {},
   "outputs": [],
   "source": [
    "TFLITE_FILENAME = 'efficientdet-lite-band.tflite'\n",
    "LABELS_FILENAME = 'band-labels.txt'"
   ]
  },
  {
   "cell_type": "code",
   "execution_count": null,
   "metadata": {
    "id": "N0xH0J9HbyJ6"
   },
   "outputs": [],
   "source": [
    "! python3 -m pip install --extra-index-url https://google-coral.github.io/py-repo/ pycoral"
   ]
  },
  {
   "cell_type": "code",
   "execution_count": null,
   "metadata": {
    "id": "ZbNQPbOVb5hJ"
   },
   "outputs": [],
   "source": [
    "from PIL import Image\n",
    "from PIL import ImageDraw\n",
    "from PIL import ImageFont\n",
    "\n",
    "import tflite_runtime.interpreter as tflite \n",
    "from pycoral.adapters import common\n",
    "from pycoral.adapters import detect\n",
    "from pycoral.utils.dataset import read_label_file\n",
    "\n",
    "def draw_objects(draw, objs, scale_factor, labels):\n",
    "  \"\"\"Draws the bounding box and label for each object.\"\"\"\n",
    "  COLORS = np.random.randint(0, 255, size=(len(labels), 3), dtype=np.uint8)\n",
    "  for obj in objs:\n",
    "    bbox = obj.bbox\n",
    "    color = tuple(int(c) for c in COLORS[obj.id])\n",
    "    draw.rectangle([(bbox.xmin * scale_factor, bbox.ymin * scale_factor),\n",
    "                    (bbox.xmax * scale_factor, bbox.ymax * scale_factor)],\n",
    "                   outline=color, width=3)\n",
    "    font = ImageFont.truetype(\"LiberationSans-Regular.ttf\", size=15)\n",
    "    draw.text((bbox.xmin * scale_factor + 4, bbox.ymin * scale_factor + 4),\n",
    "              '%s\\n%.2f' % (labels.get(obj.id, obj.id), obj.score),\n",
    "              fill=color, font=font)\n",
    "\n",
    "# Load the TF Lite model\n",
    "labels = read_label_file(LABELS_FILENAME)\n",
    "interpreter = tflite.Interpreter(TFLITE_FILENAME)\n",
    "interpreter.allocate_tensors()\n",
    "\n",
    "# Resize the image for input\n",
    "image = Image.open('Resistor_+0.jpg')\n",
    "_, scale = common.set_resized_input(\n",
    "    interpreter, image.size, lambda size: image.resize(size, Image.ANTIALIAS))\n",
    "\n",
    "# Run inference\n",
    "interpreter.invoke()\n",
    "objs = detect.get_objects(interpreter, score_threshold=0.4, image_scale=scale)\n",
    "\n",
    "# Resize again to a reasonable size for display\n",
    "display_width = 500\n",
    "scale_factor = display_width / image.width\n",
    "height_ratio = image.height / image.width\n",
    "image = image.resize((display_width, int(display_width * height_ratio)))\n",
    "draw_objects(ImageDraw.Draw(image), objs, scale_factor, labels)\n",
    "image"
   ]
  },
  {
   "cell_type": "code",
   "execution_count": null,
   "metadata": {
    "id": "N4P75Gt7b98E"
   },
   "outputs": [],
   "source": [
    "\n",
    "image2 = Image.open(img_path)\n",
    "\n",
    "\n",
    "#george u can come back and add the padding here to the bbox\n",
    "bands = []\n",
    "for i in objs:\n",
    "  img_crop = image2.crop(box=i.bbox)\n",
    "  bands.append(img_crop)\n",
    "\n",
    "img_crop\n",
    "\n"
   ]
  },
  {
   "cell_type": "code",
   "execution_count": null,
   "metadata": {
    "id": "x076gULYb-s3"
   },
   "outputs": [],
   "source": [
    "!pip install opencv-python-headless==4.1.2.30"
   ]
  },
  {
   "cell_type": "code",
   "execution_count": 1,
   "metadata": {
    "colab": {
     "base_uri": "https://localhost:8080/",
     "height": 235
    },
    "id": "i6sl3yGZb_dJ",
    "outputId": "b6777f5d-f547-4550-a581-c6980a00cb65"
   },
   "outputs": [
    {
     "ename": "NameError",
     "evalue": "ignored",
     "output_type": "error",
     "traceback": [
      "\u001b[0;31m---------------------------------------------------------------------------\u001b[0m",
      "\u001b[0;31mNameError\u001b[0m                                 Traceback (most recent call last)",
      "\u001b[0;32m<ipython-input-1-edb4ac42c562>\u001b[0m in \u001b[0;36m<module>\u001b[0;34m()\u001b[0m\n\u001b[1;32m      2\u001b[0m \u001b[0;32mimport\u001b[0m \u001b[0mcv2\u001b[0m\u001b[0;34m\u001b[0m\u001b[0;34m\u001b[0m\u001b[0m\n\u001b[1;32m      3\u001b[0m \u001b[0mopen_cv_bands\u001b[0m\u001b[0;34m=\u001b[0m\u001b[0;34m[\u001b[0m\u001b[0;34m]\u001b[0m\u001b[0;34m\u001b[0m\u001b[0;34m\u001b[0m\u001b[0m\n\u001b[0;32m----> 4\u001b[0;31m \u001b[0;32mfor\u001b[0m \u001b[0mi\u001b[0m \u001b[0;32min\u001b[0m \u001b[0mbands\u001b[0m\u001b[0;34m:\u001b[0m\u001b[0;34m\u001b[0m\u001b[0;34m\u001b[0m\u001b[0m\n\u001b[0m\u001b[1;32m      5\u001b[0m   \u001b[0mopen_cv_image\u001b[0m \u001b[0;34m=\u001b[0m \u001b[0mnp\u001b[0m\u001b[0;34m.\u001b[0m\u001b[0marray\u001b[0m\u001b[0;34m(\u001b[0m\u001b[0mi\u001b[0m\u001b[0;34m)\u001b[0m\u001b[0;34m\u001b[0m\u001b[0;34m\u001b[0m\u001b[0m\n\u001b[1;32m      6\u001b[0m   \u001b[0;31m# Convert RGB to BGR\u001b[0m\u001b[0;34m\u001b[0m\u001b[0;34m\u001b[0m\u001b[0;34m\u001b[0m\u001b[0m\n",
      "\u001b[0;31mNameError\u001b[0m: name 'bands' is not defined"
     ]
    }
   ],
   "source": [
    "import numpy as np\n",
    "import cv2\n",
    "open_cv_bands=[]\n",
    "for i in bands:\n",
    "  open_cv_image = np.array(i) \n",
    "  # Convert RGB to BGR \n",
    "  open_cv_bands.append(open_cv_image[:, :, ::-1].copy())\n",
    "\n",
    "#ur script is below\n",
    "\n",
    "#\"Black\",\"Brown\",\"Grey\",\"White\"\n",
    "colors = [\"Black\",\"Brown\",\"Red\",\"Orange\",\"Yellow\",\"Green\",\"Blue\",\"Violet\",\"Gold\"]\n",
    "values = [0,1,2,3,4,5,6,7,-1]\n",
    "all_lower = np.array([[0,22,13],[5,40,48],[0,100,100],[10,150,60],[30,90,45],[40,110,40],[94,80,2],[165,150,65],[13,125,95]])\n",
    "all_higher = np.array([[50,255,40],[23,255,90],[10,255,255],[20,180,100],[50,255,255],[60,150,65],[126,255,255],[180,255,255],[18,150,150]])\n",
    "\n",
    "final_colors=[]\n",
    "for i in open_cv_bands:\n",
    "  band_image = np.array(i)\n",
    "  #result=image.copy()\n",
    "  #cv2.imshow(\"Original\", image)\n",
    "    \n",
    "  hsv = cv2.cvtColor(band_image, cv2.COLOR_BGR2HSV)\n",
    "  \n",
    "  max=0\n",
    "  save_i=0\n",
    "  for i in range(len(colors)):\n",
    "      # lower boundary RED color range values; Hue (0 - 10)\n",
    "      lower = all_lower[i]\n",
    "      upper = all_higher[i]\n",
    "\n",
    "      \n",
    "      mask = cv2.inRange(hsv, lower, upper)\n",
    "      if(i==0):\n",
    "          save_mask=mask.copy()\n",
    "      #result = cv2.bitwise_and(image, image, mask=mask)\n",
    "      if(np.sum(mask)>max):\n",
    "          max=np.sum(mask)\n",
    "          save_i=i\n",
    "          save_mask=mask.copy()\n",
    "\n",
    "\n",
    "\n",
    "\n",
    "  final_colors.append(colors[save_i])\n",
    "\n",
    "  #result = cv2.bitwise_and(result, result, mask=save_mask)\n",
    "  # cv2.imshow('mask', save_mask)\n",
    "  # cv2.imshow('result',result)\n",
    "\n",
    "  # print(max)\n",
    "  # cv2.waitKey(0)\n",
    "  # cv2.destroyAllWindows()\n",
    "\n"
   ]
  },
  {
   "cell_type": "code",
   "execution_count": null,
   "metadata": {
    "id": "pTa1sj9bcAU9"
   },
   "outputs": [],
   "source": [
    "final_colors.reverse()\n",
    "def color2res(bands,colors,values):\n",
    "    flag=0\n",
    "    if(bands[0]==\"Gold\"):\n",
    "      bands.reverse()\n",
    "      flag=1  \n",
    "    if(len(bands)==4):\n",
    "        resistance =  (values[colors.index(bands[0])]*10 + values[colors.index(bands[1])]) * pow(10,(values[colors.index(bands[2])]))\n",
    "    else:\n",
    "        resistance =  (values[colors.index(bands[0])]*100 + values[colors.index(bands[1])]*10+values[colors.index(bands[2])]) * pow(10,(values[colors.index(bands[2])]))\n",
    "\n",
    "    if flag==1:\n",
    "      bands.reverse()\n",
    "    return resistance\n",
    "  \n",
    "resistance = color2res(final_colors,colors,values)"
   ]
  },
  {
   "cell_type": "code",
   "execution_count": null,
   "metadata": {
    "id": "7bDqhJTbcBHM"
   },
   "outputs": [],
   "source": [
    "import matplotlib.pyplot as plt\n",
    "\n",
    "display_width = 500\n",
    "scale_factor = display_width / image.width\n",
    "height_ratio = image.height / image.width\n",
    "#image = image.resize((display_width, int(display_width * height_ratio)))\n",
    "#draw_objects(ImageDraw.Draw(image), objs, scale_factor, labels)\n",
    "\n",
    "#draw = ImageDraw.Draw(image) \n",
    "  \n",
    "  \n",
    "text = str(resistance)\n",
    "  \n",
    "# drawing text size\n",
    "#draw.text((5, 5), text, align =\"left\") \n",
    "\n",
    "print(final_colors)\n",
    "image_original = Image.open(img_path)\n",
    "\n",
    "f = plt.figure()\n",
    "f.add_subplot(1,2, 1)\n",
    "plt.imshow(np.rot90(image_original,2))\n",
    "f.add_subplot(1,2, 2)\n",
    "plt.imshow(np.rot90(image,2))\n",
    "plt.show(block=True)\n",
    "\n",
    "\n"
   ]
  }
 ],
 "metadata": {
  "colab": {
   "name": "inference.ipynb",
   "provenance": [],
   "toc_visible": true
  },
  "kernelspec": {
   "display_name": "Python 3 (ipykernel)",
   "language": "python",
   "name": "python3"
  },
  "language_info": {
   "codemirror_mode": {
    "name": "ipython",
    "version": 3
   },
   "file_extension": ".py",
   "mimetype": "text/x-python",
   "name": "python",
   "nbconvert_exporter": "python",
   "pygments_lexer": "ipython3",
   "version": "3.7.13"
  }
 },
 "nbformat": 4,
 "nbformat_minor": 1
}
